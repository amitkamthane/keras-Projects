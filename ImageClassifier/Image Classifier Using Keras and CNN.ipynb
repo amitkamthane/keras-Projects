{
 "cells": [
  {
   "cell_type": "markdown",
   "metadata": {},
   "source": [
    "**The Convolution Layer**"
   ]
  },
  {
   "cell_type": "markdown",
   "metadata": {},
   "source": [
    "**The Architecture of a CNN**\n",
    "   - Input Image \n",
    "   - Convolution Layer\n",
    "   - Pooling Layer\n",
    "   - Flattening  "
   ]
  },
  {
   "cell_type": "markdown",
   "metadata": {},
   "source": [
    "- A convolution layer consists of two parts:\n",
    "    - Feature Detector\n",
    "    - Feature Map\n"
   ]
  },
  {
   "cell_type": "markdown",
   "metadata": {},
   "source": [
    "<p>\n",
    "    \n",
    "**Feature detector or filter**: This is a matrix or pattern that you put on an image to transform it into a feature map.\n",
    "\n",
    "**Feature map**: This is the reduced image that is produced by the convolution of an image and feature detector\n",
    "\n",
    "**The Pooling Layer**: Ignore the less important data in the image and reduces the image further. while preserving its important features. The pooled image is flattened and converted into a single column. Each row is made into a column and stacked one over another.Example: 3x3 matrix is converted  into a 1x9 matrix.\n",
    "    \n",
    "**Flattening**: It is a part of a CNN where the image is made ready to use as an input to an ANN. \n",
    "</p>"
   ]
  },
  {
   "cell_type": "markdown",
   "metadata": {},
   "source": [
    "**How to add first layer to a CNN**"
   ]
  },
  {
   "cell_type": "markdown",
   "metadata": {},
   "source": [
    "classifier.add(Conv2D(32,3,3,input_shape=(64,64,3),activation=\"relu\"))\n",
    "\n",
    "<p>\n",
    "\n",
    "**Note**: 32,3,3 refers to the fact that there are 32 feature detectors of size 3x3. As a good practice, always start with 32; you can add 64 or 128 later.32,3,3 refers to the fact that there are 32 feature detectors of size 3x3. As a good practice, always start with 32; you can add 64 or 128 later.\n",
    "\n",
    "</p>"
   ]
  },
  {
   "cell_type": "markdown",
   "metadata": {},
   "source": [
    "**How to fit the data that has been created**"
   ]
  },
  {
   "cell_type": "markdown",
   "metadata": {},
   "source": [
    "\n",
    "    \n",
    "classifier.fit_generator(training_set,steps_per_epoch = 5000,\\\n",
    "                        epochs = 25,validation_data = test_set,\n",
    "                         validation_steps = 1000)\n",
    "**steps_per_epoch**: Number of training images\n",
    "**validation_data** Number of test images "
   ]
  },
  {
   "cell_type": "markdown",
   "metadata": {},
   "source": [
    "**Data Agumentation**: Data augmentation creates many batches of our images. It applies random transformations to random images inside the batches.\n",
    "Data transformation can be rotating images, shifting them, flipping them, and so on"
   ]
  },
  {
   "cell_type": "markdown",
   "metadata": {},
   "source": [
    "**Syntax to perform data agumentation**\n",
    "<p>\n",
    "    \n",
    "from keras.preprocessing.image import ImageDataGenerator\n",
    "\n",
    "train_datagen = ImageDataGenerator(rescale=0.1,shear_range = 0.3, ....)\n",
    "\n",
    "**Advantages of Data Agumentation**: Reduce Overfitting, Generates More images,\n",
    "</p>"
   ]
  },
  {
   "cell_type": "markdown",
   "metadata": {},
   "source": [
    "#### Building a CNN and Identifying Images of Cars and Flowers"
   ]
  },
  {
   "cell_type": "markdown",
   "metadata": {},
   "source": [
    "##### Import the numpy library and the necessary Keras libraries and classes:\n"
   ]
  },
  {
   "cell_type": "code",
   "execution_count": 1,
   "metadata": {},
   "outputs": [],
   "source": [
    "import keras"
   ]
  },
  {
   "cell_type": "code",
   "execution_count": 2,
   "metadata": {},
   "outputs": [],
   "source": [
    "from keras.models import Sequential\n",
    "from keras.layers import Convolution2D,Conv2D,MaxPool2D, Flatten, Dense\n",
    "import numpy as np\n",
    "from tensorflow import random"
   ]
  },
  {
   "cell_type": "code",
   "execution_count": 3,
   "metadata": {},
   "outputs": [],
   "source": [
    "seed = 1\n",
    "np.random.seed(seed)\n",
    "random.set_seed(seed)\n",
    "classifier = Sequential()"
   ]
  },
  {
   "cell_type": "markdown",
   "metadata": {},
   "source": [
    "##### Add first layer to CNN"
   ]
  },
  {
   "cell_type": "markdown",
   "metadata": {},
   "source": [
    "- Add the first layer of the CNN, set the input shape to (64, 64, 3).\n",
    "- The dimension of each image, and set the activation function as a ReLU.\n"
   ]
  },
  {
   "cell_type": "code",
   "execution_count": 4,
   "metadata": {},
   "outputs": [],
   "source": [
    "classifier.add(Conv2D(32, (3, 3), input_shape = (64,64,3), activation = 'relu'))\n",
    "classifier.add(Conv2D(32, (3, 3), activation = 'relu'))\n",
    "classifier.add(Conv2D(32, (3, 3), activation = 'relu'))\n",
    "\n",
    "\n"
   ]
  },
  {
   "cell_type": "markdown",
   "metadata": {},
   "source": [
    "##### Add Pooling Layer"
   ]
  },
  {
   "cell_type": "markdown",
   "metadata": {},
   "source": [
    "- add the pooling layer with the image size as 2x2"
   ]
  },
  {
   "cell_type": "code",
   "execution_count": 5,
   "metadata": {},
   "outputs": [],
   "source": [
    "classifier.add(MaxPool2D(2,2))"
   ]
  },
  {
   "cell_type": "markdown",
   "metadata": {},
   "source": [
    "##### Add flatten layer"
   ]
  },
  {
   "cell_type": "markdown",
   "metadata": {},
   "source": [
    "- Flatten the output of the pooling layer by adding a flattening layer to the CNN model:\n"
   ]
  },
  {
   "cell_type": "code",
   "execution_count": 6,
   "metadata": {},
   "outputs": [],
   "source": [
    "classifier.add(Flatten())"
   ]
  },
  {
   "cell_type": "markdown",
   "metadata": {},
   "source": [
    "#### Add Dense layers to the network"
   ]
  },
  {
   "cell_type": "markdown",
   "metadata": {},
   "source": [
    "- Add the first Dense layer of the ANN. Here, 128 is the output of the number of nodes.\n",
    "- As a good practice, 128 is good to get started. activation is relu. "
   ]
  },
  {
   "cell_type": "code",
   "execution_count": 7,
   "metadata": {},
   "outputs": [],
   "source": [
    "classifier.add(Dense(128,activation=\"relu\"))\n",
    "classifier.add(Dense(128,activation='relu'))\n",
    "classifier.add(Dense(128,activation='relu'))\n",
    "classifier.add(Dense(128,activation='relu'))"
   ]
  },
  {
   "cell_type": "markdown",
   "metadata": {},
   "source": [
    "##### Add Output layer to the network with activation as \"Sigmoid\""
   ]
  },
  {
   "cell_type": "code",
   "execution_count": 8,
   "metadata": {},
   "outputs": [],
   "source": [
    "classifier.add(Dense(1,activation=\"sigmoid\"))"
   ]
  },
  {
   "cell_type": "markdown",
   "metadata": {},
   "source": [
    "##### Compile the model"
   ]
  },
  {
   "cell_type": "markdown",
   "metadata": {},
   "source": [
    "- Compile the network with an adam optimizer and compute the accuracy during the training process"
   ]
  },
  {
   "cell_type": "code",
   "execution_count": 9,
   "metadata": {},
   "outputs": [],
   "source": [
    "classifier.compile(optimizer=\"adam\",metrics=[\"accuracy\"],loss=\"binary_crossentropy\")"
   ]
  },
  {
   "cell_type": "markdown",
   "metadata": {},
   "source": [
    "#### Create training and testing data generators"
   ]
  },
  {
   "cell_type": "markdown",
   "metadata": {},
   "source": [
    "- Create training and test data generators.\n",
    "- Rescale the training and test images by 1/255 so that all the values are between 0 and 1.\n",
    "- Set these parameters for the training data generators only – shear_range=0.2, zoom_range=0.2, and horizontal_flip=True:\n"
   ]
  },
  {
   "cell_type": "code",
   "execution_count": 10,
   "metadata": {},
   "outputs": [],
   "source": [
    "from keras.preprocessing.image import ImageDataGenerator"
   ]
  },
  {
   "cell_type": "code",
   "execution_count": 11,
   "metadata": {},
   "outputs": [],
   "source": [
    "train_datagen = ImageDataGenerator(rescale=1.0/255,shear_range= 0.2,zoom_range=0.2,horizontal_flip=True)"
   ]
  },
  {
   "cell_type": "code",
   "execution_count": 12,
   "metadata": {},
   "outputs": [],
   "source": [
    "test_datagen = ImageDataGenerator(rescale=1.0/255)"
   ]
  },
  {
   "cell_type": "markdown",
   "metadata": {},
   "source": [
    "#### Create a training set from the training set folder"
   ]
  },
  {
   "cell_type": "markdown",
   "metadata": {},
   "source": [
    "- '../dataset/training_set' is the folder where our data has been placed. \n",
    "- Our CNN model has an image size of 64x64.\n",
    "- So the same size should be passed here too. \n",
    "- Batch_size is the number of images in a single batch, which is 32. \n",
    "- Class_mode is set to binary since we are working on binary classifiers"
   ]
  },
  {
   "cell_type": "code",
   "execution_count": 13,
   "metadata": {},
   "outputs": [
    {
     "name": "stdout",
     "output_type": "stream",
     "text": [
      "Found 10764 images belonging to 2 classes.\n"
     ]
    }
   ],
   "source": [
    "training_set = train_datagen.flow_from_directory(r\"C:\\Users\\abc\\Desktop\\The Deep Learning with Keras Workshop\\Image_Classifer_Dataset\\training_set\",\n",
    "                                                 target_size=(64,64),\n",
    "                                                 batch_size = 32,\n",
    "                                                 class_mode = 'binary')"
   ]
  },
  {
   "cell_type": "code",
   "execution_count": 14,
   "metadata": {},
   "outputs": [
    {
     "name": "stdout",
     "output_type": "stream",
     "text": [
      "Found 2674 images belonging to 2 classes.\n"
     ]
    }
   ],
   "source": [
    "testing_set = test_datagen.flow_from_directory(r\"C:\\Users\\abc\\Desktop\\The Deep Learning with Keras Workshop\\Image_Classifer_Dataset\\test_set\",\n",
    "                                              target_size=(64,64),\n",
    "                                              batch_size=32,\n",
    "                                              class_mode='binary')"
   ]
  },
  {
   "cell_type": "markdown",
   "metadata": {},
   "source": [
    "#### Fit the data"
   ]
  },
  {
   "cell_type": "markdown",
   "metadata": {},
   "source": [
    "- Set the steps_per_epoch to 10000 and the validation_steps to 2500. "
   ]
  },
  {
   "cell_type": "code",
   "execution_count": 15,
   "metadata": {},
   "outputs": [
    {
     "name": "stderr",
     "output_type": "stream",
     "text": [
      "C:\\ProgramData\\Anaconda3\\lib\\site-packages\\tensorflow\\python\\keras\\engine\\training.py:1844: UserWarning: `Model.fit_generator` is deprecated and will be removed in a future version. Please use `Model.fit`, which supports generators.\n",
      "  warnings.warn('`Model.fit_generator` is deprecated and '\n"
     ]
    },
    {
     "name": "stdout",
     "output_type": "stream",
     "text": [
      "Epoch 1/2\n",
      "  337/10000 [>.............................] - ETA: 1:07:30 - loss: 0.5443 - accuracy: 0.7211WARNING:tensorflow:Your input ran out of data; interrupting training. Make sure that your dataset or generator can generate at least `steps_per_epoch * epochs` batches (in this case, 20000 batches). You may need to use the repeat() function when building your dataset.\n",
      "WARNING:tensorflow:Your input ran out of data; interrupting training. Make sure that your dataset or generator can generate at least `steps_per_epoch * epochs` batches (in this case, 2500 batches). You may need to use the repeat() function when building your dataset.\n",
      "10000/10000 [==============================] - 155s 15ms/step - loss: 0.4845 - accuracy: 0.7717 - val_loss: 0.4068 - val_accuracy: 0.8164\n"
     ]
    },
    {
     "data": {
      "text/plain": [
       "<tensorflow.python.keras.callbacks.History at 0x2299101c970>"
      ]
     },
     "execution_count": 15,
     "metadata": {},
     "output_type": "execute_result"
    }
   ],
   "source": [
    "classifier.fit_generator(training_set,steps_per_epoch=10000,validation_steps=2500,epochs=2,validation_data=testing_set)"
   ]
  },
  {
   "cell_type": "markdown",
   "metadata": {},
   "source": [
    "**Expriement more on the above data**\n",
    " - To get more accurate results, try increasing the number of epochs to about 25. \n",
    " - change the activation function in the output layer to \"Softmax\" and check the accuracy. (Most Probable should decrease)\n",
    " - Change optmiser from adam to SGD"
   ]
  },
  {
   "cell_type": "markdown",
   "metadata": {},
   "source": [
    "#### How to classifty New image "
   ]
  },
  {
   "cell_type": "code",
   "execution_count": 16,
   "metadata": {},
   "outputs": [],
   "source": [
    "from keras.preprocessing import image"
   ]
  },
  {
   "cell_type": "code",
   "execution_count": 34,
   "metadata": {},
   "outputs": [],
   "source": [
    "new_image = image.load_img(r\"C:\\Users\\abc\\Desktop\\The Deep Learning with Keras Workshop\\Image_Classifer_Dataset\\test_image.jpg\",\n",
    "                          target_size=(64,64))"
   ]
  },
  {
   "cell_type": "code",
   "execution_count": 18,
   "metadata": {},
   "outputs": [
    {
     "data": {
      "image/png": "[encoded data removed]",
      "text/plain": [
       "<PIL.Image.Image image mode=RGB size=64x64 at 0x229909F0F10>"
      ]
     },
     "execution_count": 18,
     "metadata": {},
     "output_type": "execute_result"
    }
   ],
   "source": [
    "new_image"
   ]
  },
  {
   "cell_type": "markdown",
   "metadata": {},
   "source": [
    "##### Print the class Labels attributes of training set"
   ]
  },
  {
   "cell_type": "markdown",
   "metadata": {},
   "source": [
    "- Print the class labels located in the class_indices attribute of the training set:"
   ]
  },
  {
   "cell_type": "code",
   "execution_count": 19,
   "metadata": {},
   "outputs": [
    {
     "data": {
      "text/plain": [
       "{'car': 0, 'flower': 1}"
      ]
     },
     "execution_count": 19,
     "metadata": {},
     "output_type": "execute_result"
    }
   ],
   "source": [
    "training_set.class_indices"
   ]
  },
  {
   "cell_type": "markdown",
   "metadata": {},
   "source": [
    "##### Process the image:"
   ]
  },
  {
   "cell_type": "code",
   "execution_count": 24,
   "metadata": {},
   "outputs": [],
   "source": [
    "new_image = image.img_to_array(new_image)"
   ]
  },
  {
   "cell_type": "code",
   "execution_count": 25,
   "metadata": {
    "scrolled": true
   },
   "outputs": [
    {
     "data": {
      "text/plain": [
       "array([[[ 72.,  76.,  87.],\n",
       "        [ 84.,  88., 100.],\n",
       "        [120., 123., 138.],\n",
       "        ...,\n",
       "        [ 56.,  62.,  34.],\n",
       "        [ 29.,  36.,   5.],\n",
       "        [ 47.,  54.,  23.]],\n",
       "\n",
       "       [[ 72.,  79.,  89.],\n",
       "        [ 77.,  83.,  97.],\n",
       "        [ 81.,  87., 103.],\n",
       "        ...,\n",
       "        [ 37.,  43.,  17.],\n",
       "        [ 68.,  74.,  46.],\n",
       "        [ 49.,  55.,  27.]],\n",
       "\n",
       "       [[ 68.,  76.,  87.],\n",
       "        [ 78.,  86.,  99.],\n",
       "        [ 82.,  89., 107.],\n",
       "        ...,\n",
       "        [ 54.,  60.,  34.],\n",
       "        [ 60.,  66.,  40.],\n",
       "        [ 43.,  48.,  25.]],\n",
       "\n",
       "       ...,\n",
       "\n",
       "       [[ 53.,  62.,   7.],\n",
       "        [ 59.,  68.,  11.],\n",
       "        [ 72.,  82.,  22.],\n",
       "        ...,\n",
       "        [ 65.,  76.,  18.],\n",
       "        [ 66.,  77.,  21.],\n",
       "        [ 57.,  68.,  12.]],\n",
       "\n",
       "       [[ 50.,  59.,   4.],\n",
       "        [ 59.,  68.,  11.],\n",
       "        [ 64.,  74.,  14.],\n",
       "        ...,\n",
       "        [ 56.,  67.,   9.],\n",
       "        [ 56.,  67.,  11.],\n",
       "        [ 56.,  67.,  11.]],\n",
       "\n",
       "       [[ 48.,  57.,   2.],\n",
       "        [ 60.,  69.,  12.],\n",
       "        [ 59.,  69.,   9.],\n",
       "        ...,\n",
       "        [ 68.,  79.,  21.],\n",
       "        [ 50.,  61.,   5.],\n",
       "        [ 45.,  56.,   0.]]], dtype=float32)"
      ]
     },
     "execution_count": 25,
     "metadata": {},
     "output_type": "execute_result"
    }
   ],
   "source": [
    "new_image"
   ]
  },
  {
   "cell_type": "code",
   "execution_count": 26,
   "metadata": {
    "scrolled": true
   },
   "outputs": [
    {
     "data": {
      "text/plain": [
       "array([[[[ 72.,  76.,  87.],\n",
       "         [ 84.,  88., 100.],\n",
       "         [120., 123., 138.],\n",
       "         ...,\n",
       "         [ 56.,  62.,  34.],\n",
       "         [ 29.,  36.,   5.],\n",
       "         [ 47.,  54.,  23.]],\n",
       "\n",
       "        [[ 72.,  79.,  89.],\n",
       "         [ 77.,  83.,  97.],\n",
       "         [ 81.,  87., 103.],\n",
       "         ...,\n",
       "         [ 37.,  43.,  17.],\n",
       "         [ 68.,  74.,  46.],\n",
       "         [ 49.,  55.,  27.]],\n",
       "\n",
       "        [[ 68.,  76.,  87.],\n",
       "         [ 78.,  86.,  99.],\n",
       "         [ 82.,  89., 107.],\n",
       "         ...,\n",
       "         [ 54.,  60.,  34.],\n",
       "         [ 60.,  66.,  40.],\n",
       "         [ 43.,  48.,  25.]],\n",
       "\n",
       "        ...,\n",
       "\n",
       "        [[ 53.,  62.,   7.],\n",
       "         [ 59.,  68.,  11.],\n",
       "         [ 72.,  82.,  22.],\n",
       "         ...,\n",
       "         [ 65.,  76.,  18.],\n",
       "         [ 66.,  77.,  21.],\n",
       "         [ 57.,  68.,  12.]],\n",
       "\n",
       "        [[ 50.,  59.,   4.],\n",
       "         [ 59.,  68.,  11.],\n",
       "         [ 64.,  74.,  14.],\n",
       "         ...,\n",
       "         [ 56.,  67.,   9.],\n",
       "         [ 56.,  67.,  11.],\n",
       "         [ 56.,  67.,  11.]],\n",
       "\n",
       "        [[ 48.,  57.,   2.],\n",
       "         [ 60.,  69.,  12.],\n",
       "         [ 59.,  69.,   9.],\n",
       "         ...,\n",
       "         [ 68.,  79.,  21.],\n",
       "         [ 50.,  61.,   5.],\n",
       "         [ 45.,  56.,   0.]]]], dtype=float32)"
      ]
     },
     "execution_count": 26,
     "metadata": {},
     "output_type": "execute_result"
    }
   ],
   "source": [
    "new_image = np.expand_dims(new_image, axis=0)\n",
    "new_image"
   ]
  },
  {
   "cell_type": "markdown",
   "metadata": {},
   "source": [
    "##### Predict the new Image"
   ]
  },
  {
   "cell_type": "code",
   "execution_count": 27,
   "metadata": {},
   "outputs": [],
   "source": [
    "result = classifier.predict(new_image)"
   ]
  },
  {
   "cell_type": "code",
   "execution_count": 35,
   "metadata": {},
   "outputs": [
    {
     "name": "stdout",
     "output_type": "stream",
     "text": [
      "[[2.1645016e-15]]\n",
      "It is a car\n"
     ]
    }
   ],
   "source": [
    "new_image = image.img_to_array(new_image)\n",
    "new_image = np.expand_dims(new_image, axis = 0)\n",
    "result = classifier.predict(new_image)\n",
    "print(result)\n",
    "if result[0][0] == 1:\n",
    "    prediction = 'It is a flower'\n",
    "else:\n",
    "    prediction = 'It is a car'\n",
    "\n",
    "print(prediction)"
   ]
  },
  {
   "cell_type": "markdown",
   "metadata": {},
   "source": [
    "**Second Test case**"
   ]
  },
  {
   "cell_type": "code",
   "execution_count": 48,
   "metadata": {},
   "outputs": [],
   "source": [
    "new_image2 = image.load_img(r\"C:\\Users\\abc\\Desktop\\The Deep Learning with Keras Workshop\\Image_Classifer_Dataset\\test_image1.jpg\",\n",
    "                           target_size=(64,64))"
   ]
  },
  {
   "cell_type": "code",
   "execution_count": 49,
   "metadata": {},
   "outputs": [
    {
     "data": {
      "image/png": "[encoded data removed]",
      "text/plain": [
       "<PIL.Image.Image image mode=RGB size=64x64 at 0x22998AC4370>"
      ]
     },
     "execution_count": 49,
     "metadata": {},
     "output_type": "execute_result"
    }
   ],
   "source": [
    "new_image2"
   ]
  },
  {
   "cell_type": "code",
   "execution_count": 50,
   "metadata": {},
   "outputs": [
    {
     "name": "stdout",
     "output_type": "stream",
     "text": [
      "It is a flower\n"
     ]
    }
   ],
   "source": [
    "new_image2 = image.img_to_array(new_image2)\n",
    "new_image2 = np.expand_dims(new_image2, axis=0)\n",
    "result2 = classifier.predict(new_image2)\n",
    "if result2[0][0] == 1:\n",
    "    prediction = 'It is a flower'\n",
    "else:\n",
    "    prediction = 'It is a car'\n",
    "\n",
    "print(prediction)"
   ]
  },
  {
   "cell_type": "code",
   "execution_count": 54,
   "metadata": {},
   "outputs": [],
   "source": [
    "new_image3 = image.load_img(r\"C:\\Users\\abc\\Desktop\\The Deep Learning with Keras Workshop\\Image_Classifer_Dataset\\test_image_2.jpg\",\n",
    "                           target_size=(64,64))\n",
    "new_image3 = image.img_to_array(new_image3)\n",
    "new_image3 = np.expand_dims(new_image3, axis=0)\n",
    "result3 = classifier.predict(new_image3)\n",
    "if result3[0][0] == 1:\n",
    "    prediction = 'It is a flower'\n",
    "else:\n",
    "    prediction = 'It is a car'"
   ]
  },
  {
   "cell_type": "code",
   "execution_count": 59,
   "metadata": {},
   "outputs": [],
   "source": [
    "# new_image3"
   ]
  },
  {
   "cell_type": "code",
   "execution_count": null,
   "metadata": {},
   "outputs": [],
   "source": []
  }
 ],
 "metadata": {
  "kernelspec": {
   "display_name": "Python 3",
   "language": "python",
   "name": "python3"
  },
  "language_info": {
   "codemirror_mode": {
    "name": "ipython",
    "version": 3
   },
   "file_extension": ".py",
   "mimetype": "text/x-python",
   "name": "python",
   "nbconvert_exporter": "python",
   "pygments_lexer": "ipython3",
   "version": "3.8.5"
  },
  "toc": {
   "base_numbering": 1,
   "nav_menu": {},
   "number_sections": true,
   "sideBar": true,
   "skip_h1_title": false,
   "title_cell": "Table of Contents",
   "title_sidebar": "Contents",
   "toc_cell": false,
   "toc_position": {},
   "toc_section_display": true,
   "toc_window_display": true
  }
 },
 "nbformat": 4,
 "nbformat_minor": 4
}
